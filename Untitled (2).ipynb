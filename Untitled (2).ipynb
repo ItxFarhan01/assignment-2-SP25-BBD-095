{
 "cells": [
  {
   "cell_type": "code",
   "execution_count": 3,
   "id": "955d7db0-e14f-43a6-b55a-e982cbd8931a",
   "metadata": {},
   "outputs": [
    {
     "name": "stdout",
     "output_type": "stream",
     "text": [
      "you are eligibal to vote !\n"
     ]
    }
   ],
   "source": [
    "age = 18\n",
    "if age >= 18:\n",
    "   print (\"you are eligibal to vote !\")"
   ]
  },
  {
   "cell_type": "code",
   "execution_count": 18,
   "id": "3b7783ab-05c3-4463-9c09-28e4401f4d56",
   "metadata": {},
   "outputs": [
    {
     "name": "stdout",
     "output_type": "stream",
     "text": [
      "weather is hot today\n"
     ]
    }
   ],
   "source": [
    "temperature =24\n",
    "if temperature >25:\n",
    "    print(\"weather is good today\")\n",
    "else:\n",
    "    print(\"weather is hot today\")"
   ]
  },
  {
   "cell_type": "code",
   "execution_count": 21,
   "id": "ece3f879-18ee-42d8-b355-bd6ebb13ff5e",
   "metadata": {},
   "outputs": [
    {
     "name": "stdout",
     "output_type": "stream",
     "text": [
      "Grade: c\n"
     ]
    }
   ],
   "source": [
    "score =75\n",
    "if score >=90:\n",
    "    print(\"Grade: A\")\n",
    "elif score >=80:\n",
    "    print(\"Grade: B\")\n",
    "elif score >=70:\n",
    "    print (\"Grade: c\")\n",
    "else:\n",
    "    print(\"Grade: F\")"
   ]
  },
  {
   "cell_type": "code",
   "execution_count": 24,
   "id": "a1395c8b-2318-4e0a-8a4d-98bddec87c75",
   "metadata": {},
   "outputs": [
    {
     "name": "stdout",
     "output_type": "stream",
     "text": [
      "you are an adult male.\n"
     ]
    }
   ],
   "source": [
    "age =20\n",
    "gender = \"male\"\n",
    "if age >=18:\n",
    "    if gender == \"male\":\n",
    "        print(\"you are an adult male.\")\n",
    "    else:\n",
    "        print(\"you are an adult female.\")\n",
    "else:\n",
    "        print(\"you are a minor.\")"
   ]
  },
  {
   "cell_type": "code",
   "execution_count": 28,
   "id": "7439a274-6e13-45ae-bf71-48b0756b3bcb",
   "metadata": {},
   "outputs": [
    {
     "name": "stdout",
     "output_type": "stream",
     "text": [
      "you are an adult male.\n"
     ]
    }
   ],
   "source": [
    "age =20\n",
    "gender = \"male\"\n",
    "if age >=18:\n",
    "    if gender == \"male\":\n",
    "        print(\"you are an adult male.\")\n",
    "    else:\n",
    "        print(\"you are an adult female.\")\n",
    "else:\n",
    "        print(\"you are a minor.\")"
   ]
  },
  {
   "cell_type": "code",
   "execution_count": 35,
   "id": "48cd838c-9a57-477f-b356-9345891f97a4",
   "metadata": {},
   "outputs": [
    {
     "name": "stdout",
     "output_type": "stream",
     "text": [
      "you are eligibal for the loan\n"
     ]
    }
   ],
   "source": [
    "age = 25\n",
    "income= 30000\n",
    "if age > 18 and income > 20000:\n",
    "  print (\"you are eligibal for the loan\")"
   ]
  },
  {
   "cell_type": "code",
   "execution_count": 44,
   "id": "535751da-1014-4069-9190-bd8a93fd0ec0",
   "metadata": {},
   "outputs": [
    {
     "name": "stdout",
     "output_type": "stream",
     "text": [
      "it's the weekend!\n"
     ]
    }
   ],
   "source": [
    "day = \"satureday\"\n",
    "if day == \"satureday\" or day == \"sunday\":\n",
    "   print (\"it's the weekend!\")"
   ]
  },
  {
   "cell_type": "code",
   "execution_count": null,
   "id": "b5482175-f177-4b75-9d89-d11f19bdf0b0",
   "metadata": {},
   "outputs": [],
   "source": []
  }
 ],
 "metadata": {
  "kernelspec": {
   "display_name": "Python 3 (ipykernel)",
   "language": "python",
   "name": "python3"
  },
  "language_info": {
   "codemirror_mode": {
    "name": "ipython",
    "version": 3
   },
   "file_extension": ".py",
   "mimetype": "text/x-python",
   "name": "python",
   "nbconvert_exporter": "python",
   "pygments_lexer": "ipython3",
   "version": "3.12.4"
  }
 },
 "nbformat": 4,
 "nbformat_minor": 5
}
